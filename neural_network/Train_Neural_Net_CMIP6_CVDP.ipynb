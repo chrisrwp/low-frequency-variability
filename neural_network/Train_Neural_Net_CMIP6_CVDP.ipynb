{
 "cells": [
  {
   "cell_type": "markdown",
   "id": "799c9295-73ee-4241-b299-7a9fb11a6e8f",
   "metadata": {},
   "source": [
    "# Neural Network\n",
    "\n",
    "**Intention is to train the variables on the Neural Network with several hidden layers and see if a much higher r$^2$ value can be obtained than using the Lasso method. If so then this will imply nonlinearities and interdependence between the variables should be looked at**"
   ]
  },
  {
   "cell_type": "code",
   "execution_count": 1,
   "id": "f3267e95-13c9-40d1-9258-4bd6b22ef0df",
   "metadata": {},
   "outputs": [],
   "source": [
    "import numpy as np\n",
    "import xarray as xr\n",
    "import matplotlib.pyplot as plt\n",
    "import scipy.signal as sig\n",
    "from sklearn import neural_network\n",
    "import datetime\n",
    "import warnings\n",
    "import dask"
   ]
  },
  {
   "cell_type": "code",
   "execution_count": 91,
   "id": "a86bce85-6fa2-4e0d-887f-250ab7217aaa",
   "metadata": {},
   "outputs": [
    {
     "name": "stderr",
     "output_type": "stream",
     "text": [
      "/glade/u/ssg/ch/usr/jupyterhub/envs/npl-3.7.9/dav/lib/python3.7/site-packages/distributed/node.py:155: UserWarning: Port 8787 is already in use.\n",
      "Perhaps you already have a cluster running?\n",
      "Hosting the HTTP server on port 42118 instead\n",
      "  http_address[\"port\"], self.http_server.port\n"
     ]
    },
    {
     "data": {
      "text/html": [
       "<table style=\"border: 2px solid white;\">\n",
       "<tr>\n",
       "<td style=\"vertical-align: top; border: 0px solid white\">\n",
       "<h3 style=\"text-align: left;\">Client</h3>\n",
       "<ul style=\"text-align: left; list-style: none; margin: 0; padding: 0;\">\n",
       "  <li><b>Scheduler: </b>tcp://10.12.206.48:42137</li>\n",
       "  <li><b>Dashboard: </b><a href='https://jupyterhub.hpc.ucar.edu/stable/user/cwpowell/proxy/42118/status' target='_blank'>https://jupyterhub.hpc.ucar.edu/stable/user/cwpowell/proxy/42118/status</a></li>\n",
       "</ul>\n",
       "</td>\n",
       "<td style=\"vertical-align: top; border: 0px solid white\">\n",
       "<h3 style=\"text-align: left;\">Cluster</h3>\n",
       "<ul style=\"text-align: left; list-style:none; margin: 0; padding: 0;\">\n",
       "  <li><b>Workers: </b>0</li>\n",
       "  <li><b>Cores: </b>0</li>\n",
       "  <li><b>Memory: </b>0 B</li>\n",
       "</ul>\n",
       "</td>\n",
       "</tr>\n",
       "</table>"
      ],
      "text/plain": [
       "<Client: 'tcp://10.12.206.48:42137' processes=0 threads=0, memory=0 B>"
      ]
     },
     "execution_count": 91,
     "metadata": {},
     "output_type": "execute_result"
    }
   ],
   "source": [
    "#for running on Casper\n",
    "from dask_jobqueue import PBSCluster\n",
    "from dask.distributed import Client\n",
    "\n",
    "cluster = PBSCluster(cores    = 1,\n",
    "                     memory   = '1GB',\n",
    "                     queue    = 'casper',\n",
    "                     walltime = '01:05:00')\n",
    "\n",
    "cluster.scale(12)\n",
    "client = Client(cluster)\n",
    "client"
   ]
  },
  {
   "cell_type": "markdown",
   "id": "4f867f60-2ea2-4e68-86a1-72c71a1dd1b6",
   "metadata": {},
   "source": [
    "## Load useful data"
   ]
  },
  {
   "cell_type": "code",
   "execution_count": 2,
   "id": "68e16dd9-96a7-442c-94c4-92d8d78a755f",
   "metadata": {},
   "outputs": [],
   "source": [
    "CMIP6_info = xr.open_dataset(\n",
    "    '/glade/work/cwpowell/low-frequency-variability/raw_data/CMIP6_info/'\\\n",
    "    +'CMIP6_modeling_center_members_doi.nc'\n",
    ")\n",
    "\n",
    "#split train:~75%, test:~15%, validation:~10% (not used in this analysis)\n",
    "mem_split = {'CanESM5':[47,55,64], 'MIROC6':[36,43,49], \n",
    "             'GISS-E2-1-G':[31,37,42], 'IPSL-CM6A-LR':[23,27,31],\n",
    "             'CNRM-CM6-1':[16,19,20], 'NorCPM1':[21,25,29],\n",
    "             'GISS-E2-1-H':[18,21,22], 'EC-Earth3':[15,18,19]\n",
    "            }"
   ]
  },
  {
   "cell_type": "markdown",
   "id": "598f973c-da2e-48f0-abb8-5ebd50b68ace",
   "metadata": {},
   "source": [
    "## Define training function"
   ]
  },
  {
   "cell_type": "code",
   "execution_count": 87,
   "id": "2f7f46ba-abea-41f1-9f7e-4bf5d639a817",
   "metadata": {},
   "outputs": [],
   "source": [
    "def train_model_month(sea_ice_data, variability_data, month_, year_lags, \n",
    "                      train_test, start_end_yr, hl_sizes, lr_init, max_iteration,\n",
    "                      tolorence, alphas_list):\n",
    "    \n",
    "    '''\n",
    "    Function which trains and tests a neural network from a single GCM or \n",
    "    collection of model data for a single month of sea ice data and with all \n",
    "    CVDP climate variables lagged as specified\n",
    "        \n",
    "    Input:\n",
    "        sea_ice_data: xarray dataarray  \n",
    "            Lowpass filtered standardized sea ice data e.g. SIC or SIT from\n",
    "            a given model\n",
    "        variability_data: xarray dataarray\n",
    "            Climate variable data for all members from a given model\n",
    "        month_: int\n",
    "            The month of the year, e.g. 1 for January\n",
    "        year_lags: list of ints\n",
    "            List of number of years lagged over which to run the Lasso model\n",
    "        train_test: list of ints\n",
    "            List of the member elements up to element x (inclusive) for the \n",
    "            training data, and from y to z (inclusive) for the testing data, \n",
    "            e.g. [74,90,99] for a 100 member ensemble\n",
    "        start_end_yr: list of ints\n",
    "            List of the starting and ending years of analysis e.g. [1950,2014]\n",
    "            Note that the starting year is that of the sea ice data which does\n",
    "            not change with lag, CVDP data for a 10 year lag would use 1940 to\n",
    "            2004 data\n",
    "        max_iteration: int\n",
    "            The maximum number of iterations for to fit the data for the \n",
    "            Lasso method\n",
    "        tolorence: float\n",
    "            The tolorence of the Lasso iterations\n",
    "        model_sel: str\n",
    "            The type of Lasso model to use e.g. 'cyclic' or 'random'\n",
    "        alphas_list: list of floats\n",
    "            The values of alpha used in the Lasso model e.g. [1.0,1.5,2.0]\n",
    "        \n",
    "    Returns:\n",
    "        tuple of two xarray dataarrays, containing Lasso multiple regression \n",
    "        coefficients and scores\n",
    "    '''\n",
    "    \n",
    "    ##################### reorganize sea ice and CVDP data #####################\n",
    "    #prepare sea ice data for analysis by creating year and month dimensions\n",
    "    #out of the time dimension - uncomment if using time dim not year,month\n",
    "\n",
    "    target_data = sea_ice_data.copy()\n",
    "\n",
    "    #prepare CVDP data for analysis by creating year and month dimensions\n",
    "    #out of the time dimension\n",
    "    CVDP_year_month = variability_data.to_array('variable').sortby('time')\n",
    "    \n",
    "    month_seperate = []\n",
    "    for i in np.arange(1,13):\n",
    "        temp_data = CVDP_year_month.sel(\n",
    "            time=CVDP_year_month['time.month']==i)\n",
    "        temp_data['time'] = np.arange(1920,2015)\n",
    "        month_seperate.append(temp_data)\n",
    "    \n",
    "    CVDP_data = xr.concat((month_seperate), dim='month')\n",
    "    CVDP_data['month'] = np.arange(1,13)\n",
    "    CVDP_data = CVDP_data.rename({'time':'year'})\n",
    "    \n",
    "    # make subsets of the datasets with only members in both sea ice and CVDP\n",
    "    # uncomment if using individual models\n",
    "    common_mem = np.intersect1d(target_data['member'], CVDP_data['member'])\n",
    "\n",
    "    target_data = target_data.sel(member=common_mem).sortby('member')\n",
    "    CVDP_data = CVDP_data.sel(member=common_mem).sortby('member')\n",
    "        \n",
    "    #remove AMOC as only some models contain that data\n",
    "    CVDP_data = CVDP_data.drop_sel(variable=['AMOC'])\n",
    "    \n",
    "    ######################### begin the lasso training #########################\n",
    "    all_alphas_coefs_train = []\n",
    "    all_alphas_score = []\n",
    "    for alpha_val in alphas_list:\n",
    "\n",
    "        all_lags_coefs_train = []\n",
    "        all_lags_score = []\n",
    "        for lag in year_lags:\n",
    "\n",
    "            all_regions_coefs_train  = []\n",
    "            all_regions_score = []\n",
    "            for region_ in [1,2,3,4,5,6,11]:\n",
    "\n",
    "                #preapre the sea ice data (targets) ensure member and time are\n",
    "                #sorted alphabetically/chronologically \n",
    "                target_train = target_data.sortby('member')\n",
    "                target_train = target_train.isel(\n",
    "                    member=slice(0,train_test[0])).sel(month=month_).sel(\n",
    "                    year=slice(str(start_end_yr[0]), str(start_end_yr[1]))).sel(\n",
    "                    region=region_).stack(member_time=('member','year'))\n",
    "                \n",
    "                target_test  = target_data.sortby('member')\n",
    "                target_test  = target_test.isel(\n",
    "                    member=slice(train_test[1], train_test[2])).sel(\n",
    "                    month=month_).sel(\n",
    "                    year=slice(str(start_end_yr[0]), str(start_end_yr[1]))).sel(\n",
    "                    region=region_).stack(member_time=('member','year'))\n",
    "                \n",
    "                #prepare the CVDP data into the training and testing data\n",
    "                CVDP_train = []\n",
    "                CVDP_test  = []\n",
    "                for lag_month in np.arange(1,13):\n",
    "                        \n",
    "                    CVDP_month_data = CVDP_data.sortby('member')\n",
    "                    CVDP_month_data = CVDP_month_data.sel(\n",
    "                        month=lag_month).sel(\n",
    "                        year=slice(str(start_end_yr[0]-lag), \n",
    "                                   str(start_end_yr[1]-lag)))\n",
    "                    \n",
    "                    CVDP_train.append(CVDP_month_data.isel(\n",
    "                        member=slice(0,train_test[0])))\n",
    "                    CVDP_test.append(CVDP_month_data.isel(\n",
    "                        member=slice(train_test[1], train_test[2])))\n",
    "                \n",
    "                CVDP_train_stacked = xr.concat((CVDP_train),'month')\n",
    "                \n",
    "                CVDP_train_stacked = CVDP_train_stacked.stack(\n",
    "                    member_time=('member','year')).stack(\n",
    "                    var_month=('variable','month'))\n",
    "                               \n",
    "                CVDP_test_stacked  = xr.concat((CVDP_test),'month')\n",
    "                \n",
    "                CVDP_test_stacked = CVDP_test_stacked.stack(\n",
    "                    member_time=('member','year')).stack(\n",
    "                    var_month=('variable','month'))\n",
    "                \n",
    "                #train the neural net\n",
    "                nn_model = neural_network.MLPRegressor(\n",
    "                    alpha=alpha_val, hidden_layer_sizes=hl_sizes,\n",
    "                    activation='relu', solver='adam', \n",
    "                    learning_rate_init=lr_init, max_iter=max_iteration, \n",
    "                    tol=tolorence, early_stopping=True, validation_fraction=0.2,\n",
    "                )\n",
    "                \n",
    "                nn_fit = nn_model.fit(X=CVDP_train_stacked, y=target_train.T)\n",
    "                \n",
    "                #save the trained coefficients and the scores\n",
    "                var_month_coords = [] \n",
    "                for var_name_ in CVDP_month_data['variable'].values:\n",
    "                    for i in np.arange(1,13):\n",
    "                        var_month_coords.append(\n",
    "                            str(var_name_)+'_'+str(i).zfill(2))\n",
    "                \n",
    "                all_regions_coefs_train.append(xr.DataArray(\n",
    "                    data=nn_fit.predict(CVDP_train_stacked*0 + 1),\n",
    "                    coords={'member_time':CVDP_train_stacked['member_time']}, \n",
    "                    dims=['member_time'])\n",
    "                )\n",
    "                \n",
    "                all_regions_score.append(xr.DataArray(\n",
    "                    data=[nn_model.score(X=CVDP_train_stacked, \n",
    "                                         y=target_train.T), \n",
    "                          nn_model.score(X=CVDP_test_stacked, \n",
    "                                         y=target_test.T)],\n",
    "                    coords={'train_test':['train','test']}, \n",
    "                    dims=['train_test'])\n",
    "                )\n",
    "\n",
    "            all_lags_coefs_train.append(xr.concat((all_regions_coefs_train),\n",
    "                                                  dim='region'))\n",
    "            all_lags_score.append(xr.concat((all_regions_score), dim='region'))\n",
    "\n",
    "        all_alphas_coefs_train.append(xr.concat((all_lags_coefs_train),\n",
    "                                                dim='lag'))\n",
    "        all_alphas_score.append(xr.concat((all_lags_score), dim='lag'))\n",
    "        \n",
    "    coefs_xr = xr.concat((all_alphas_coefs_train), dim='alpha')\n",
    "    score_xr = xr.concat((all_alphas_score), dim='alpha')\n",
    "    \n",
    "    coefs_xr['region'] = [1,2,3,4,5,6,11]\n",
    "    coefs_xr['lag'] = year_lags\n",
    "    coefs_xr['alpha'] = alphas_list\n",
    "    \n",
    "    score_xr['region'] = [1,2,3,4,5,6,11]\n",
    "    score_xr['lag'] = year_lags\n",
    "    score_xr['alpha'] = alphas_list\n",
    "    \n",
    "    return(coefs_xr, score_xr)\n",
    "    \n",
    "    # return(all_regions_coefs_train, all_regions_score)"
   ]
  },
  {
   "cell_type": "markdown",
   "id": "c877412b-fa5e-4c43-8d5e-6abed671532a",
   "metadata": {},
   "source": [
    "## Train the Neural Net"
   ]
  },
  {
   "cell_type": "code",
   "execution_count": null,
   "id": "79f69334-7b2e-45a9-827a-d8c0f147bb7f",
   "metadata": {},
   "outputs": [
    {
     "name": "stdout",
     "output_type": "stream",
     "text": [
      "2022-10-28 12:03:56.073005 NorCPM1\n"
     ]
    }
   ],
   "source": [
    "########################### Set the hyperparameters ############################\n",
    "#regularization: lower the alpha = higher weights (but may overfit)\n",
    "alpha_list = [0.1, 0.25, 0.5, 1] \n",
    "#inital learning rate: how quickly to update gradient parameters,\n",
    "#too low = too computationally expensive, too high = miss global minimum\n",
    "learn_rate_init = 0.01\n",
    "#hidden layers: choose the size and number of hidden layers, \n",
    "#too few layers could result in underfitting, try and keep the nodes per layer\n",
    "#somewhere between the input and output layer for optimal fitting\n",
    "hidden_layers = (100,75,100)\n",
    "#maximum number of iterations, stop no matter what after this many iterations\n",
    "max_iter = 200\n",
    "#tolorence stoping criterium, max loss/score improvement for another iteration\n",
    "tol = 1e-4\n",
    "\n",
    "save_num = 2  #decide on an arbitrary save number for the NetCDFs            \n",
    "\n",
    "###############################################################################\n",
    "for model_name in ['NorCPM1', 'GISS-E2-1-H', 'EC-Earth3', 'CNRM-CM6-1']:  \n",
    "    print(datetime.da tetime.now(), model_name)\n",
    "\n",
    "    CMIP6_data = xr.open_dataset(\n",
    "        '/glade/work/cwpowell/low-frequency-variability/input_data/Regional_'\\\n",
    "        +'SIC_detrended_lowpass_{}_1920_2014.nc'.format(model_name)\n",
    "    )\n",
    "    \n",
    "    CVDP_data = xr.open_dataset(\n",
    "        '/glade/work/cwpowell/low-frequency-variability/input_data/'\\\n",
    "        +'CVDP_hist_all_vars/CVDP_standardized_1920_2014_historical_'\\\n",
    "        +'{}.nc'.format(model_name)\n",
    "    )    \n",
    "    \n",
    "    if model_name == 'CNRM-CM6-1':\n",
    "        CVDP_data = CVDP_data.drop_sel(member=[\n",
    "            'r21i1p1f2','r22i1p1f2','r23i1p1f2','r24i1p1f2','r25i1p1f2',\n",
    "            'r26i1p1f2','r27i1p1f2','r28i1p1f2','r30i1p1f2'\n",
    "        ])\n",
    "    \n",
    "    nn_compute_list = []\n",
    "    for month_ in np.arange(1,13):\n",
    "        \n",
    "        nn_compute_list.append(dask.delayed(train_model_month)(\n",
    "            sea_ice_data = CMIP6_data['SIC'], variability_data = CVDP_data,\n",
    "            month_ = month_, year_lags = np.arange(2,21), \n",
    "            train_test = mem_split[model_name], start_end_yr = [1941,2014], \n",
    "            hl_sizes = hidden_layers, lr_init = learn_rate_init,\n",
    "            max_iteration = max_iter, tolorence = tol, \n",
    "            alphas_list = alpha_list,)\n",
    "        )    \n",
    "\n",
    "    #do the simultaneous computation on all months \n",
    "    nn_computed = dask.compute(*nn_compute_list)\n",
    "\n",
    "    coefs = []\n",
    "    scores = []\n",
    "    for month_ in np.arange(1,13):\n",
    "        coefs.append(nn_computed[month_-1][0])\n",
    "        scores.append(nn_computed[month_-1][1])\n",
    "\n",
    "    coefs_xr = xr.concat((coefs), dim='month')\n",
    "    scores_xr = xr.concat((scores), dim='month')\n",
    "\n",
    "    coefs_xr['month'] = np.arange(1,13)\n",
    "    scores_xr['month'] = np.arange(1,13)\n",
    "\n",
    "    print(datetime.datetime.now(), model_name)\n",
    "    \n",
    "    doi_model = CMIP6_info['doi'].sel(model=model_name)\n",
    "    \n",
    "    coefs_attrs = {\n",
    "        'Description': 'Multiple regression coefficients using the Lasso '\\\n",
    "            +'method, trained on average regional sea ice concentration (SIC) '\\\n",
    "            +'and modes of climate variability for the model '\\\n",
    "            +'{}. Regions as defined for NSIDC MASIE-NH '.format(model_name)\\\n",
    "            +'Version 1, modes of variability are obtained from the Climate '\\\n",
    "            +'Variability Diagnostics Package (CVDP). Training on the first '\\\n",
    "            +'75% of members for each region and month of SIC data for '\\\n",
    "            +'1941-2014 using historical CMIP6 forcing with CVDP data lagged '\\\n",
    "            +'between 2 and 20 years for each month of the mode of '\\\n",
    "            +f'variability. Hyperparameters: alpha={alpha_list}, '\\\n",
    "            +f'hidden layer sizes={hidden_layers}, '\\\n",
    "            +f'initial learning rate={learn_rate_init}, maximum iterations = '\\\n",
    "            +f'{max_iter}, tolorence={tol}.',\n",
    "        'Timestamp'  : str(datetime.datetime.utcnow().strftime(\n",
    "            \"%H:%M UTC %a %Y-%m-%d\")),\n",
    "        'Data source': '{}, doi:{} . '.format(model_name, doi_model)\\\n",
    "            +'Climate Variability Diagnostics Package, '\\\n",
    "            +'doi:10.1002/2014EO490002. NSIDC MASIE-NH Regions, '\\\n",
    "            +'doi:10.7265/N5GT5K3K.', \n",
    "        'Analysis'   : 'https://github.com/chrisrwp/low-frequency-variability/'\\\n",
    "            +'blob/main/lasso/Train_CMIP6_CVDP.ipynb'\n",
    "    }\n",
    "\n",
    "    coefs_xr.attrs = coefs_attrs\n",
    "    \n",
    "    coefs_xr = coefs_xr.unstack()\n",
    "    coefs_xr.to_netcdf('/glade/work/cwpowell/low-frequency-variability/'\\\n",
    "        +'neural_net_scores/SIC_CVDP_NN_Weights_{}_'.format(model_name)\\\n",
    "        +f'1941_2014_lag_2_20_all_CVDP_vars_{save_num}.nc')\n",
    "\n",
    "    scores_attrs = coefs_attrs.copy()\n",
    "    scores_attrs['Description'] = 'Multiple regression scores using the Lasso '\\\n",
    "            +'method, trained and tested on average regional sea ice '\\\n",
    "            +'concentration (SIC) and modes of climate variability for the'\\\n",
    "            +' model {}. Regions as defined for NSIDC '.format(model_name)\\\n",
    "            +'MASIE-NH Version 1, modes of variability are obtained from the '\\\n",
    "            +'Climate Variability Diagnostics Package (CVDP). Training on the '\\\n",
    "            +'first 75% of members and testing on the final 15% of member for '\\\n",
    "            +'each region and month of SIC data for 1941-2014 using '\\\n",
    "            +'historical CMIP6 forcing with CVDP data lagged between 2 and 20 '\\\n",
    "            +'years for each month of the mode of variability. '\\\n",
    "            +f'Hyperparameters: alpha={alpha_list}, '\\\n",
    "            +f'hidden layer sizes={hidden_layers}, '\\\n",
    "            +f'initial learning rate={learn_rate_init}, maximum iterations = '\\\n",
    "            +f'{max_iter}, tolorence={tol}.',\n",
    "    scores_xr.attrs = scores_attrs\n",
    "\n",
    "    scores_xr.to_netcdf('/glade/work/cwpowell/low-frequency-variability/'\\\n",
    "        +'neural_net_scores/SIC_CVDP_NN_Scores_{}_'.format(model_name)\\\n",
    "        +f'1941_2014_lag_2_20_all_CVDP_vars_{save_num}.nc')"
   ]
  },
  {
   "cell_type": "code",
   "execution_count": null,
   "id": "7358775e-02db-40d4-bb59-bf591e5901f3",
   "metadata": {},
   "outputs": [],
   "source": [
    "#want input to be var_month all 1s?\n",
    "#maybe just train on 1 month of CVDP variables and 1 month of sea ice data? So 65 members x (16 CVDP vars for Sep predicting 1 SIC anomalies)"
   ]
  },
  {
   "cell_type": "code",
   "execution_count": 74,
   "id": "12f5875c-b135-4a5b-b1c0-6fcee6b15e00",
   "metadata": {},
   "outputs": [
    {
     "data": {
      "text/plain": [
       "[<matplotlib.lines.Line2D at 0x2b511ac00d10>]"
      ]
     },
     "execution_count": 74,
     "metadata": {},
     "output_type": "execute_result"
    },
    {
     "data": {
      "image/png": "[encoded data removed]",
      "text/plain": [
       "<Figure size 432x288 with 1 Axes>"
      ]
     },
     "metadata": {
      "needs_background": "light"
     },
     "output_type": "display_data"
    }
   ],
   "source": [
    "output[1].sel(region=11).sel(train_test='test').sel(alpha=1).plot()"
   ]
  },
  {
   "cell_type": "code",
   "execution_count": 86,
   "id": "1820cf80-05b0-47eb-b01a-771ce1a9fabf",
   "metadata": {},
   "outputs": [
    {
     "data": {
      "text/plain": [
       "<matplotlib.collections.QuadMesh at 0x2b68a24866d0>"
      ]
     },
     "execution_count": 86,
     "metadata": {},
     "output_type": "execute_result"
    },
    {
     "data": {
      "image/png": "[encoded data removed]",
      "text/plain": [
       "<Figure size 432x288 with 2 Axes>"
      ]
     },
     "metadata": {
      "needs_background": "light"
     },
     "output_type": "display_data"
    }
   ],
   "source": [
    "scores_xr.sel(region=11).sel(train_test='test').sel(alpha=0.5).plot(vmin=-0.6, vmax=0.6, cmap='RdBu_r')"
   ]
  },
  {
   "cell_type": "code",
   "execution_count": 83,
   "id": "9b27a1c1-e04a-4073-b468-6ba3288ffc4f",
   "metadata": {},
   "outputs": [
    {
     "data": {
      "text/plain": [
       "<matplotlib.collections.QuadMesh at 0x2b68a224d190>"
      ]
     },
     "execution_count": 83,
     "metadata": {},
     "output_type": "execute_result"
    },
    {
     "data": {
      "image/png": "[encoded data removed]",
      "text/plain": [
       "<Figure size 432x288 with 2 Axes>"
      ]
     },
     "metadata": {
      "needs_background": "light"
     },
     "output_type": "display_data"
    }
   ],
   "source": [
    "CanESM5_scores.sel(region=11).sel(train_test='test').sel(alpha=0.5).plot(vmin=-0.6, vmax=0.6, cmap='RdBu_r')"
   ]
  },
  {
   "cell_type": "code",
   "execution_count": 70,
   "id": "ca807f7d-0596-4137-afea-df3cdec949e7",
   "metadata": {},
   "outputs": [
    {
     "data": {
      "text/plain": [
       "<matplotlib.collections.QuadMesh at 0x2b68a1ac99d0>"
      ]
     },
     "execution_count": 70,
     "metadata": {},
     "output_type": "execute_result"
    },
    {
     "data": {
      "image/png": "[encoded data removed]",
      "text/plain": [
       "<Figure size 432x288 with 2 Axes>"
      ]
     },
     "metadata": {
      "needs_background": "light"
     },
     "output_type": "display_data"
    }
   ],
   "source": [
    "CanESM5_scores.sel(region=1).sel(train_test='test').sel(alpha=1).plot(vmin=-0.35, vmax=0.35, cmap='RdBu_r')"
   ]
  }
 ],
 "metadata": {
  "kernelspec": {
   "display_name": "NPL-3.7.9",
   "language": "python",
   "name": "npl-3.7.9"
  },
  "language_info": {
   "codemirror_mode": {
    "name": "ipython",
    "version": 3
   },
   "file_extension": ".py",
   "mimetype": "text/x-python",
   "name": "python",
   "nbconvert_exporter": "python",
   "pygments_lexer": "ipython3",
   "version": "3.7.9"
  }
 },
 "nbformat": 4,
 "nbformat_minor": 5
}
